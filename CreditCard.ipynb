{
 "cells": [
  {
   "cell_type": "markdown",
   "metadata": {},
   "source": [
    "### Credit Card Fraud Data\n",
    "\n",
    "This dataset contains instances of credit card fraud transactions from European customers. PCA has already been applied to the dataset, so this is engineered data from the get-go. The biggest challenge is to increase recall as there is severe class imbalance in the dataset with the fraud cases only accounting for less than 1% of the dataset."
   ]
  },
  {
   "cell_type": "code",
   "execution_count": 11,
   "metadata": {},
   "outputs": [],
   "source": [
    "# read in the csv file\n",
    "import pandas as pd\n",
    "df = pd.read_csv(\"creditcard.csv\")"
   ]
  },
  {
   "cell_type": "code",
   "execution_count": 12,
   "metadata": {},
   "outputs": [
    {
     "data": {
      "text/html": [
       "<div>\n",
       "<style scoped>\n",
       "    .dataframe tbody tr th:only-of-type {\n",
       "        vertical-align: middle;\n",
       "    }\n",
       "\n",
       "    .dataframe tbody tr th {\n",
       "        vertical-align: top;\n",
       "    }\n",
       "\n",
       "    .dataframe thead th {\n",
       "        text-align: right;\n",
       "    }\n",
       "</style>\n",
       "<table border=\"1\" class=\"dataframe\">\n",
       "  <thead>\n",
       "    <tr style=\"text-align: right;\">\n",
       "      <th></th>\n",
       "      <th>Time</th>\n",
       "      <th>V1</th>\n",
       "      <th>V2</th>\n",
       "      <th>V3</th>\n",
       "      <th>V4</th>\n",
       "      <th>V5</th>\n",
       "      <th>V6</th>\n",
       "      <th>V7</th>\n",
       "      <th>V8</th>\n",
       "      <th>V9</th>\n",
       "      <th>...</th>\n",
       "      <th>V21</th>\n",
       "      <th>V22</th>\n",
       "      <th>V23</th>\n",
       "      <th>V24</th>\n",
       "      <th>V25</th>\n",
       "      <th>V26</th>\n",
       "      <th>V27</th>\n",
       "      <th>V28</th>\n",
       "      <th>Amount</th>\n",
       "      <th>Class</th>\n",
       "    </tr>\n",
       "  </thead>\n",
       "  <tbody>\n",
       "    <tr>\n",
       "      <th>0</th>\n",
       "      <td>0.0</td>\n",
       "      <td>-1.359807</td>\n",
       "      <td>-0.072781</td>\n",
       "      <td>2.536347</td>\n",
       "      <td>1.378155</td>\n",
       "      <td>-0.338321</td>\n",
       "      <td>0.462388</td>\n",
       "      <td>0.239599</td>\n",
       "      <td>0.098698</td>\n",
       "      <td>0.363787</td>\n",
       "      <td>...</td>\n",
       "      <td>-0.018307</td>\n",
       "      <td>0.277838</td>\n",
       "      <td>-0.110474</td>\n",
       "      <td>0.066928</td>\n",
       "      <td>0.128539</td>\n",
       "      <td>-0.189115</td>\n",
       "      <td>0.133558</td>\n",
       "      <td>-0.021053</td>\n",
       "      <td>149.62</td>\n",
       "      <td>0</td>\n",
       "    </tr>\n",
       "    <tr>\n",
       "      <th>1</th>\n",
       "      <td>0.0</td>\n",
       "      <td>1.191857</td>\n",
       "      <td>0.266151</td>\n",
       "      <td>0.166480</td>\n",
       "      <td>0.448154</td>\n",
       "      <td>0.060018</td>\n",
       "      <td>-0.082361</td>\n",
       "      <td>-0.078803</td>\n",
       "      <td>0.085102</td>\n",
       "      <td>-0.255425</td>\n",
       "      <td>...</td>\n",
       "      <td>-0.225775</td>\n",
       "      <td>-0.638672</td>\n",
       "      <td>0.101288</td>\n",
       "      <td>-0.339846</td>\n",
       "      <td>0.167170</td>\n",
       "      <td>0.125895</td>\n",
       "      <td>-0.008983</td>\n",
       "      <td>0.014724</td>\n",
       "      <td>2.69</td>\n",
       "      <td>0</td>\n",
       "    </tr>\n",
       "    <tr>\n",
       "      <th>2</th>\n",
       "      <td>1.0</td>\n",
       "      <td>-1.358354</td>\n",
       "      <td>-1.340163</td>\n",
       "      <td>1.773209</td>\n",
       "      <td>0.379780</td>\n",
       "      <td>-0.503198</td>\n",
       "      <td>1.800499</td>\n",
       "      <td>0.791461</td>\n",
       "      <td>0.247676</td>\n",
       "      <td>-1.514654</td>\n",
       "      <td>...</td>\n",
       "      <td>0.247998</td>\n",
       "      <td>0.771679</td>\n",
       "      <td>0.909412</td>\n",
       "      <td>-0.689281</td>\n",
       "      <td>-0.327642</td>\n",
       "      <td>-0.139097</td>\n",
       "      <td>-0.055353</td>\n",
       "      <td>-0.059752</td>\n",
       "      <td>378.66</td>\n",
       "      <td>0</td>\n",
       "    </tr>\n",
       "    <tr>\n",
       "      <th>3</th>\n",
       "      <td>1.0</td>\n",
       "      <td>-0.966272</td>\n",
       "      <td>-0.185226</td>\n",
       "      <td>1.792993</td>\n",
       "      <td>-0.863291</td>\n",
       "      <td>-0.010309</td>\n",
       "      <td>1.247203</td>\n",
       "      <td>0.237609</td>\n",
       "      <td>0.377436</td>\n",
       "      <td>-1.387024</td>\n",
       "      <td>...</td>\n",
       "      <td>-0.108300</td>\n",
       "      <td>0.005274</td>\n",
       "      <td>-0.190321</td>\n",
       "      <td>-1.175575</td>\n",
       "      <td>0.647376</td>\n",
       "      <td>-0.221929</td>\n",
       "      <td>0.062723</td>\n",
       "      <td>0.061458</td>\n",
       "      <td>123.50</td>\n",
       "      <td>0</td>\n",
       "    </tr>\n",
       "    <tr>\n",
       "      <th>4</th>\n",
       "      <td>2.0</td>\n",
       "      <td>-1.158233</td>\n",
       "      <td>0.877737</td>\n",
       "      <td>1.548718</td>\n",
       "      <td>0.403034</td>\n",
       "      <td>-0.407193</td>\n",
       "      <td>0.095921</td>\n",
       "      <td>0.592941</td>\n",
       "      <td>-0.270533</td>\n",
       "      <td>0.817739</td>\n",
       "      <td>...</td>\n",
       "      <td>-0.009431</td>\n",
       "      <td>0.798278</td>\n",
       "      <td>-0.137458</td>\n",
       "      <td>0.141267</td>\n",
       "      <td>-0.206010</td>\n",
       "      <td>0.502292</td>\n",
       "      <td>0.219422</td>\n",
       "      <td>0.215153</td>\n",
       "      <td>69.99</td>\n",
       "      <td>0</td>\n",
       "    </tr>\n",
       "  </tbody>\n",
       "</table>\n",
       "<p>5 rows × 31 columns</p>\n",
       "</div>"
      ],
      "text/plain": [
       "   Time        V1        V2        V3        V4        V5        V6        V7  \\\n",
       "0   0.0 -1.359807 -0.072781  2.536347  1.378155 -0.338321  0.462388  0.239599   \n",
       "1   0.0  1.191857  0.266151  0.166480  0.448154  0.060018 -0.082361 -0.078803   \n",
       "2   1.0 -1.358354 -1.340163  1.773209  0.379780 -0.503198  1.800499  0.791461   \n",
       "3   1.0 -0.966272 -0.185226  1.792993 -0.863291 -0.010309  1.247203  0.237609   \n",
       "4   2.0 -1.158233  0.877737  1.548718  0.403034 -0.407193  0.095921  0.592941   \n",
       "\n",
       "         V8        V9  ...       V21       V22       V23       V24       V25  \\\n",
       "0  0.098698  0.363787  ... -0.018307  0.277838 -0.110474  0.066928  0.128539   \n",
       "1  0.085102 -0.255425  ... -0.225775 -0.638672  0.101288 -0.339846  0.167170   \n",
       "2  0.247676 -1.514654  ...  0.247998  0.771679  0.909412 -0.689281 -0.327642   \n",
       "3  0.377436 -1.387024  ... -0.108300  0.005274 -0.190321 -1.175575  0.647376   \n",
       "4 -0.270533  0.817739  ... -0.009431  0.798278 -0.137458  0.141267 -0.206010   \n",
       "\n",
       "        V26       V27       V28  Amount  Class  \n",
       "0 -0.189115  0.133558 -0.021053  149.62      0  \n",
       "1  0.125895 -0.008983  0.014724    2.69      0  \n",
       "2 -0.139097 -0.055353 -0.059752  378.66      0  \n",
       "3 -0.221929  0.062723  0.061458  123.50      0  \n",
       "4  0.502292  0.219422  0.215153   69.99      0  \n",
       "\n",
       "[5 rows x 31 columns]"
      ]
     },
     "execution_count": 12,
     "metadata": {},
     "output_type": "execute_result"
    }
   ],
   "source": [
    "# Let's visualize the dataset to see what it looks like\n",
    "df.head()"
   ]
  },
  {
   "cell_type": "code",
   "execution_count": 13,
   "metadata": {},
   "outputs": [
    {
     "data": {
      "text/plain": [
       "array([0, 1])"
      ]
     },
     "execution_count": 13,
     "metadata": {},
     "output_type": "execute_result"
    }
   ],
   "source": [
    "# Check for the y column and class instances\n",
    "df.Class.unique()"
   ]
  },
  {
   "cell_type": "code",
   "execution_count": 23,
   "metadata": {},
   "outputs": [
    {
     "data": {
      "text/plain": [
       "0    284315\n",
       "1       492\n",
       "Name: Class, dtype: int64"
      ]
     },
     "execution_count": 23,
     "metadata": {},
     "output_type": "execute_result"
    }
   ],
   "source": [
    "# Check to confirm class imbalance\n",
    "df.Class.value_counts()"
   ]
  },
  {
   "cell_type": "code",
   "execution_count": 14,
   "metadata": {},
   "outputs": [
    {
     "data": {
      "text/plain": [
       "Time      0\n",
       "V1        0\n",
       "V2        0\n",
       "V3        0\n",
       "V4        0\n",
       "V5        0\n",
       "V6        0\n",
       "V7        0\n",
       "V8        0\n",
       "V9        0\n",
       "V10       0\n",
       "V11       0\n",
       "V12       0\n",
       "V13       0\n",
       "V14       0\n",
       "V15       0\n",
       "V16       0\n",
       "V17       0\n",
       "V18       0\n",
       "V19       0\n",
       "V20       0\n",
       "V21       0\n",
       "V22       0\n",
       "V23       0\n",
       "V24       0\n",
       "V25       0\n",
       "V26       0\n",
       "V27       0\n",
       "V28       0\n",
       "Amount    0\n",
       "Class     0\n",
       "dtype: int64"
      ]
     },
     "execution_count": 14,
     "metadata": {},
     "output_type": "execute_result"
    }
   ],
   "source": [
    "# check for null values\n",
    "df.isnull().sum()"
   ]
  },
  {
   "cell_type": "markdown",
   "metadata": {},
   "source": [
    "The data has no null values so we don't need to do much cleaning. Since PCA has already been applied, we don't need much feature engineering either. We will remove the time column for now and run with all 28 PCA features."
   ]
  },
  {
   "cell_type": "code",
   "execution_count": 42,
   "metadata": {},
   "outputs": [],
   "source": [
    "# train-test split\n",
    "from sklearn.model_selection import train_test_split\n",
    "\n",
    "\n",
    "df_y = df['Class']\n",
    "df_x = df.drop(['Class','Time'],axis = 1)\n",
    "\n",
    "X = df_x\n",
    "y = df_y"
   ]
  },
  {
   "cell_type": "code",
   "execution_count": 43,
   "metadata": {},
   "outputs": [],
   "source": [
    "X_train, X_test, y_train, y_test = train_test_split(X, y, test_size=0.4, stratify = y)"
   ]
  },
  {
   "cell_type": "code",
   "execution_count": 44,
   "metadata": {},
   "outputs": [],
   "source": [
    "from sklearn import preprocessing\n",
    "scaler = preprocessing.StandardScaler()\n",
    "# Instantiate\n",
    "scaler.fit(X_train)\n",
    "# Transform the data\n",
    "X_train_scaled = scaler.transform(X_train)\n",
    "X_test_scaled = scaler.transform(X_test)"
   ]
  },
  {
   "cell_type": "code",
   "execution_count": 45,
   "metadata": {},
   "outputs": [
    {
     "data": {
      "text/plain": [
       "(170884, 29)"
      ]
     },
     "execution_count": 45,
     "metadata": {},
     "output_type": "execute_result"
    }
   ],
   "source": [
    "X_train_scaled.shape"
   ]
  },
  {
   "cell_type": "code",
   "execution_count": 46,
   "metadata": {},
   "outputs": [
    {
     "name": "stdout",
     "output_type": "stream",
     "text": [
      "0.9999122211558719\n",
      "0.9994908841937098\n",
      "0.8426395939086294\n",
      "0.8601036269430051\n",
      "0.8512820512820511\n",
      "Confusion matrix:\n",
      " [[113699     27]\n",
      " [    31    166]]\n"
     ]
    }
   ],
   "source": [
    "from sklearn.metrics import confusion_matrix\n",
    "from sklearn.metrics import accuracy_score, f1_score, precision_score, recall_score, classification_report, confusion_matrix\n",
    "from sklearn.neural_network import MLPClassifier\n",
    "mlp = MLPClassifier(hidden_layer_sizes = (50,50,50), max_iter = 100000)\n",
    "\n",
    "mlp.fit(X_train_scaled, y_train)\n",
    "\n",
    "print(mlp.score(X_train_scaled, y_train))\n",
    "print(mlp.score(X_test_scaled, y_test))\n",
    "pred_train = mlp.predict(X_train_scaled)\n",
    "pred_test = mlp.predict(X_test_scaled)\n",
    "recall = recall_score(y_test, pred_test)\n",
    "precision = precision_score(y_test, pred_test)\n",
    "f1score = f1_score(y_test, pred_test)\n",
    "cmat = confusion_matrix(y_test, pred_test)\n",
    "print(recall)\n",
    "print(precision)\n",
    "print(f1score)\n",
    "print('Confusion matrix:\\n', cmat)\n",
    "\n"
   ]
  },
  {
   "cell_type": "code",
   "execution_count": 49,
   "metadata": {},
   "outputs": [],
   "source": [
    "# Now lets plot the ROC Curve\n",
    "# Calculate Probability for ROC curve\n",
    "pred_test_proba = mlp.predict_proba(X_test_scaled)[:,1]"
   ]
  },
  {
   "cell_type": "code",
   "execution_count": 50,
   "metadata": {},
   "outputs": [
    {
     "data": {
      "image/png": "[encoded data removed]",
      "text/plain": [
       "<Figure size 432x288 with 1 Axes>"
      ]
     },
     "metadata": {
      "needs_background": "light"
     },
     "output_type": "display_data"
    },
    {
     "name": "stdout",
     "output_type": "stream",
     "text": [
      "AUC score: 0.967\n"
     ]
    }
   ],
   "source": [
    "# model evaluation\n",
    "from sklearn.metrics import roc_curve, auc    \n",
    "\n",
    "fpr, tpr, _ = roc_curve(y_test, pred_test_proba)\n",
    "roc_auc = auc(fpr, tpr)\n",
    "\n",
    "plt.figure()\n",
    "lw = 2\n",
    "plt.plot(fpr, tpr, color='darkorange',\n",
    "         lw=lw, label='AUC = %0.2f' % roc_auc)\n",
    "plt.plot([0, 1], [0, 1], color='navy', lw=lw, linestyle='--')\n",
    "plt.xlabel('False Positive Rate')\n",
    "plt.ylabel('True Positive Rate')\n",
    "plt.title('ROC and AUC')\n",
    "plt.legend(loc=\"best\")\n",
    "plt.show()\n",
    "print(\"AUC score: %3.3f\" % roc_auc)"
   ]
  },
  {
   "cell_type": "markdown",
   "metadata": {},
   "source": [
    "## Evaluation Metrics"
   ]
  },
  {
   "cell_type": "markdown",
   "metadata": {},
   "source": [
    "The Neural Network model shows great results, but because of our severe class imbalance accuracy is not of primary importance. Since we are trying to detect credit card fraud, we want to accurately predict as many of the cases of that as possible thus our model recall is of primary importance. Through our working, we can see a trade-off between precision and recall but we will comprise some precision for greater recall. The Neural Network has so far given us our best model in my view with an 84% recall and 86% precision with a AUC score of 0.967"
   ]
  },
  {
   "cell_type": "code",
   "execution_count": 32,
   "metadata": {},
   "outputs": [
    {
     "data": {
      "image/png": "[encoded data removed]",
      "text/plain": [
       "<Figure size 432x288 with 1 Axes>"
      ]
     },
     "metadata": {
      "needs_background": "light"
     },
     "output_type": "display_data"
    }
   ],
   "source": [
    "import numpy as np\n",
    "import matplotlib.pyplot as plt\n",
    "from sklearn.ensemble import RandomForestClassifier\n",
    "import numpy as np\n",
    "from sklearn import linear_model\n",
    "from sklearn.linear_model import LogisticRegression\n",
    "from sklearn.metrics import confusion_matrix\n",
    "from sklearn.metrics import accuracy_score, f1_score, precision_score, recall_score, classification_report, confusion_matrix\n",
    "from sklearn.model_selection import cross_val_score\n",
    "import warnings\n",
    "warnings.filterwarnings('ignore')\n",
    "\n",
    "sample_range = np.arange(1,60,10) \n",
    "validation_score_list = []\n",
    "recall_list = []\n",
    "precision_list = []\n",
    "f1score_list = []\n",
    "\n",
    "for i in sample_range:\n",
    "    my_random_forest = RandomForestClassifier(n_estimators=i)\n",
    "    validation_score = np.mean(cross_val_score(my_random_forest, X_train_scaled, y_train, cv = 5))\n",
    "    validation_score_list.append(validation_score)\n",
    "    \n",
    "    # Fit\n",
    "    my_random_forest.fit(X_train_scaled, y_train)\n",
    "\n",
    "    # predict\n",
    "    pred_train = my_random_forest.predict(X_train_scaled)\n",
    "    pred_test = my_random_forest.predict(X_test_scaled)\n",
    "    \n",
    "    recall_list.append(recall_score(y_test, pred_test))\n",
    "    precision_list.append(precision_score(y_test, pred_test))\n",
    "    f1score_list.append(f1_score(y_test, pred_test))\n",
    "\n",
    "\n",
    "    \n",
    "%matplotlib inline\n",
    "plt.plot(sample_range, validation_score_list,label=\"Validation Score\",marker='o')\n",
    "plt.plot(sample_range, recall_list,label=\"Recall Score\",marker='o')\n",
    "plt.plot(sample_range, precision_list,label=\"Precision Score\",marker='o')\n",
    "plt.plot(sample_range, f1score_list,label=\"F1 Score\",marker='o')\n",
    "plt.legend()\n",
    "plt.xlabel('max_depth: i')\n",
    "plt.ylabel('Cross-Validation Score (Average Scores)')\n",
    "plt.show();\n"
   ]
  },
  {
   "cell_type": "code",
   "execution_count": 47,
   "metadata": {},
   "outputs": [
    {
     "data": {
      "image/png": "[encoded data removed]",
      "text/plain": [
       "<Figure size 432x288 with 1 Axes>"
      ]
     },
     "metadata": {
      "needs_background": "light"
     },
     "output_type": "display_data"
    }
   ],
   "source": [
    "# Lets plot out different parameters with 5-fold cross validation\n",
    "validation_score_list = []\n",
    "sample_range = [.00000001,.0000001,.000001,.00001,.0001,0.001,0.01,0.1,1]\n",
    "recall_list = []\n",
    "precision_list = []\n",
    "f1score_list = []\n",
    "\n",
    "for c in sample_range:\n",
    "    # Instantiate\n",
    "    LR_model = LogisticRegression(C=c)\n",
    "    validation_score = np.mean(cross_val_score(LR_model, X_train_scaled, y_train, cv = 5))\n",
    "    validation_score_list.append(validation_score)\n",
    "    \n",
    "    # Fit\n",
    "    LR_model.fit(X_train_scaled, y_train)\n",
    "\n",
    "    # predict\n",
    "    pred_train = LR_model.predict(X_train_scaled)\n",
    "    pred_test = LR_model.predict(X_test_scaled)\n",
    "    \n",
    "    recall_list.append(recall_score(y_test, pred_test))\n",
    "    precision_list.append(precision_score(y_test, pred_test))\n",
    "    f1score_list.append(f1_score(y_test, pred_test))\n",
    "\n",
    "\n",
    "%matplotlib inline\n",
    "plt.plot(np.log10(sample_range), validation_score_list,label=\"Validation Score\",marker='o')\n",
    "plt.plot(np.log10(sample_range), recall_list,label=\"Recall Score\",marker='o')\n",
    "plt.plot(np.log10(sample_range), precision_list,label=\"Precision Score\",marker='o')\n",
    "plt.plot(np.log10(sample_range), f1score_list,label=\"F1 Score\",marker='o')\n",
    "plt.legend()\n",
    "plt.xlabel('Regularization Parameter: C')\n",
    "plt.ylabel('Cross-Validation Score (Average Scores)')\n",
    "plt.show();\n"
   ]
  },
  {
   "cell_type": "code",
   "execution_count": 33,
   "metadata": {},
   "outputs": [
    {
     "name": "stdout",
     "output_type": "stream",
     "text": [
      "0.9999414807705812\n",
      "0.9994294391826058\n",
      "0.7157360406091371\n",
      "0.94\n",
      "0.8126801152737751\n",
      "Confusion matrix:\n",
      " [[113717      9]\n",
      " [    56    141]]\n"
     ]
    }
   ],
   "source": [
    "my_random_forest = RandomForestClassifier(n_estimators=12)\n",
    "my_random_forest.fit(X_train_scaled, y_train)\n",
    "\n",
    "# predict\n",
    "pred_train = my_random_forest.predict(X_train_scaled)\n",
    "pred_test = my_random_forest.predict(X_test_scaled)\n",
    "\n",
    "print(my_random_forest.score(X_train_scaled, y_train))\n",
    "print(my_random_forest.score(X_test_scaled, y_test))\n",
    "\n",
    "recall = recall_score(y_test, pred_test)\n",
    "precision = precision_score(y_test, pred_test)\n",
    "f1score = f1_score(y_test, pred_test)\n",
    "cmat = confusion_matrix(y_test, pred_test)\n",
    "print(recall)\n",
    "print(precision)\n",
    "print(f1score)\n",
    "print('Confusion matrix:\\n', cmat)\n",
    "\n",
    "    "
   ]
  },
  {
   "cell_type": "code",
   "execution_count": 38,
   "metadata": {},
   "outputs": [
    {
     "name": "stdout",
     "output_type": "stream",
     "text": [
      "0.99990636923293\n",
      "0.999438217041335\n",
      "0.700507614213198\n",
      "0.965034965034965\n",
      "0.8117647058823529\n",
      "Confusion matrix:\n",
      " [[113721      5]\n",
      " [    59    138]]\n"
     ]
    }
   ],
   "source": [
    "my_random_forest = RandomForestClassifier(n_estimators=12, class_weight = {0:1,1:3})\n",
    "my_random_forest.fit(X_train_scaled, y_train)\n",
    "\n",
    "# predict\n",
    "pred_train = my_random_forest.predict(X_train_scaled)\n",
    "pred_test = my_random_forest.predict(X_test_scaled)\n",
    "\n",
    "print(my_random_forest.score(X_train_scaled, y_train))\n",
    "print(my_random_forest.score(X_test_scaled, y_test))\n",
    "\n",
    "recall = recall_score(y_test, pred_test)\n",
    "precision = precision_score(y_test, pred_test)\n",
    "f1score = f1_score(y_test, pred_test)\n",
    "cmat = confusion_matrix(y_test, pred_test)\n",
    "print(recall)\n",
    "print(precision)\n",
    "print(f1score)\n",
    "print('Confusion matrix:\\n', cmat)\n"
   ]
  },
  {
   "cell_type": "code",
   "execution_count": null,
   "metadata": {},
   "outputs": [],
   "source": [
    "\n"
   ]
  }
 ],
 "metadata": {
  "kernelspec": {
   "display_name": "Python 3",
   "language": "python",
   "name": "python3"
  },
  "language_info": {
   "codemirror_mode": {
    "name": "ipython",
    "version": 3
   },
   "file_extension": ".py",
   "mimetype": "text/x-python",
   "name": "python",
   "nbconvert_exporter": "python",
   "pygments_lexer": "ipython3",
   "version": "3.7.3"
  }
 },
 "nbformat": 4,
 "nbformat_minor": 2
}
